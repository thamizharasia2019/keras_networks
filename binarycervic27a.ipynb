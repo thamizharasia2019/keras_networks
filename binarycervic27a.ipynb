{
 "cells": [
  {
   "cell_type": "code",
   "execution_count": 1,
   "metadata": {},
   "outputs": [
    {
     "name": "stderr",
     "output_type": "stream",
     "text": [
      "Using TensorFlow backend.\n"
     ]
    }
   ],
   "source": [
    "\n",
    "\n",
    "from sklearn.preprocessing import LabelEncoder\n",
    "from sklearn.model_selection import train_test_split\n",
    "from sklearn.metrics import classification_report\n",
    "from keras.preprocessing.image import ImageDataGenerator\n",
    "from keras.optimizers import SGD\n",
    "from keras.utils import np_utils\n",
    "from imutils import paths\n",
    "import matplotlib.pyplot as plt\n",
    "import numpy as np\n",
    "import argparse\n",
    "import cv2\n",
    "import os\n",
    "import math\n",
    "import keras\n",
    "from keras.layers import Dense,GlobalAveragePooling2D\n",
    "from keras.preprocessing import image\n",
    "from keras.models import Model\n",
    "from keras.optimizers import Adam\n",
    "from keras.applications import ResNet50\n",
    "\n",
    "\n",
    "from keras.applications import imagenet_utils\n",
    "from keras.preprocessing.image import load_img,img_to_array\n",
    "from keras.preprocessing.image import load_img\n",
    "\n",
    "from keras.callbacks import ModelCheckpoint\n",
    "from keras.applications.imagenet_utils import preprocess_input\n",
    "\n",
    "\n",
    "from keras.callbacks import LearningRateScheduler\n",
    "\n",
    "from keras_radam import RAdam\n",
    "\n",
    "from pyimagesearch.learningratefinder import LearningRateFinder\n",
    "#from pyimagesearch import config\n",
    "from pyimagesearch.clr_callback import CyclicLR\n",
    "from keras import backend as K\n",
    "\n",
    "import sys\n",
    "from imutils import paths\n",
    "\n"
   ]
  },
  {
   "cell_type": "code",
   "execution_count": 2,
   "metadata": {},
   "outputs": [
    {
     "name": "stdout",
     "output_type": "stream",
     "text": [
      "[INFO] loading images...\n"
     ]
    }
   ],
   "source": [
    "# # construct the argument parser and parse the arguments\n",
    "# ap = argparse.ArgumentParser()\n",
    "# ap.add_argument(\"-d\", \"--dataset\", required=True,\n",
    "# \thelp=\"path to input dataset\")\n",
    "# #ap.add_argument(\"-a\", \"--augment\", type=int, default=-1,\n",
    "# #\thelp=\"whether or not 'on the fly' data augmentation should be used\")\n",
    "# #ap.add_argument(\"-p\", \"--plot\", type=str, default=\"plot.png\",\n",
    "# #\thelp=\"path to output loss/accuracy plot\")\n",
    "# args = vars(ap.parse_args())\n",
    "# # # Using Resnet50 and initialised with weights of imagenet\n",
    "# # ## images in smear 2005 are resized to 224 x224 \n",
    "\n",
    "\n",
    "\n",
    "\n",
    "\n",
    "# grab the list of images in our dataset directory, then initialize\n",
    "# the list of data (i.e., images) and class images\n",
    "print(\"[INFO] loading images...\")\n",
    "#imagePaths = list(paths.list_images(args[\"dataset\"]))\n",
    "imagePaths = list(paths.list_images('./dataset_binary/'))\n",
    "#print(imagePaths)\n",
    "data = []\n",
    "labels = []\n",
    " \n",
    "# loop over the image paths\n",
    "for imagePath in imagePaths:\n",
    "\t# extract the class label from the filename, load the image, and\n",
    "\t# resize it to be a fixed 64x64 pixels, ignoring aspect ratio\n",
    "\tlabel = imagePath.split(os.path.sep)[-2]\n",
    "\t#image = load_img(imagePath, target_size=(224, 224))\n",
    "        # convert the image pixels to a numpy array\n",
    "\t#image = img_to_array(image)\n",
    "        # reshape data for the model\n",
    "\t#image = image.reshape((1, image.shape[0], image.shape[1], image.shape[2]))\n",
    "\timage = cv2.imread(imagePath,1)\n",
    "\timage = cv2.resize(image, (224, 224))\n",
    "\timage= preprocess_input(image)\n",
    "\t# update the data and labels lists, respectively\n",
    "\tdata.append(image)\n",
    "\t\n",
    "\tlabels.append(label)\n",
    "\n",
    "\n",
    "#print(imagePaths)"
   ]
  },
  {
   "cell_type": "code",
   "execution_count": 3,
   "metadata": {},
   "outputs": [
    {
     "name": "stdout",
     "output_type": "stream",
     "text": [
      "loaded data\n",
      "(917, 224, 224, 3)\n"
     ]
    }
   ],
   "source": [
    "data = np.array(data, dtype=\"float\") \n",
    "print('loaded data')\n",
    "print(data.shape)\n",
    "#print(len(data))\n",
    "#print(len(labels))\n",
    "# one-hot encode them\n",
    "le = LabelEncoder()\n",
    "labels = le.fit_transform(labels)\n",
    "labels = np_utils.to_categorical(labels, 2)"
   ]
  },
  {
   "cell_type": "code",
   "execution_count": 4,
   "metadata": {},
   "outputs": [],
   "source": [
    "\n",
    "\n",
    "# convert the data into a NumPy array, then preprocess it by scaling\n",
    "# all pixel intensities to the range [0, 1]\n",
    "#data = np.array(data, dtype=\"float\") / 255.0\n",
    " \n",
    "# encode the labels (which are currently strings) as integers and then\n",
    "\n",
    " \n",
    "# partition the data into training and testing splits using 75% of\n",
    "# the data for training and the remaining 25% for testing\n",
    "(trainX, testX, trainY, testY) = train_test_split(data, labels,\n",
    "\ttest_size=0.20, random_state=10, shuffle=True)\n",
    "\n",
    "\n",
    "\n"
   ]
  },
  {
   "cell_type": "code",
   "execution_count": 5,
   "metadata": {},
   "outputs": [
    {
     "name": "stderr",
     "output_type": "stream",
     "text": [
      "/home/thamizharasi/anaconda3/lib/python3.7/site-packages/keras_applications/resnet50.py:265: UserWarning: The output shape of `ResNet50(include_top=False)` has been changed since Keras 2.2.0.\n",
      "  warnings.warn('The output shape of `ResNet50(include_top=False)` '\n"
     ]
    }
   ],
   "source": [
    "# Resnet initialisation with imagenet\n",
    "\n",
    "img_height,img_width = 224,224\n",
    "num_classes = 2\n",
    "input_shape= (img_height,img_width,3)\n",
    "#base_model=ResNet50(weights='imagenet',include_top=False,input_shape= (img_height,img_width,3)) #imports the mobilenet model and discards the \n",
    "\n",
    "restnet = ResNet50(include_top=False, weights='imagenet', input_shape= (img_height,img_width,3))\n",
    "\n",
    "\n",
    "output = restnet.layers[-1].output\n",
    "output = keras.layers.Flatten()(output)\n",
    "# flatten the output of the convolutional part: \n",
    "#x = keras.layers.Flatten()(conv_model.output)\n",
    "# three hidden layers\n",
    "# output  = keras.layers.Dense(100, activation='relu')(output )\n",
    "# output  = keras.layers.Dense(100, activation='relu')(output )\n",
    "# output  = keras.layers.Dense(100, activation='relu')(output )\n",
    "preds=Dense(num_classes,activation='softmax')(output ) #final layer with softmax activatio\n",
    "\n",
    "model = Model(inputs=restnet.input, outputs=preds)\n",
    "\n"
   ]
  },
  {
   "cell_type": "code",
   "execution_count": 6,
   "metadata": {},
   "outputs": [],
   "source": [
    "\n",
    "# Freeze the layers except the last 4 layers\n",
    "#for layer in restnet.layers:\n",
    "for layer in restnet.layers[:-2]:\n",
    "    layer.trainable = False\n",
    "\n",
    "\n",
    "\n"
   ]
  },
  {
   "cell_type": "code",
   "execution_count": 7,
   "metadata": {},
   "outputs": [],
   "source": [
    "#model.summary()\n",
    "\n",
    "\n"
   ]
  },
  {
   "cell_type": "code",
   "execution_count": 8,
   "metadata": {},
   "outputs": [],
   "source": [
    "# ## Created function to computer F1 SCORE\n",
    "\n",
    "\n",
    "\n",
    "def recall_m(y_true, y_pred):\n",
    "        true_positives = K.sum(K.round(K.clip(y_true * y_pred, 0, 1)))\n",
    "        possible_positives = K.sum(K.round(K.clip(y_true, 0, 1)))\n",
    "        recall = true_positives / (possible_positives + K.epsilon())\n",
    "        return recall\n",
    "\n",
    "def precision_m(y_true, y_pred):\n",
    "        true_positives = K.sum(K.round(K.clip(y_true * y_pred, 0, 1)))\n",
    "        predicted_positives = K.sum(K.round(K.clip(y_pred, 0, 1)))\n",
    "        precision = true_positives / (predicted_positives + K.epsilon())\n",
    "        return precision\n",
    "\n",
    "def f1(y_true, y_pred):\n",
    "    precision = precision_m(y_true, y_pred)\n",
    "    recall = recall_m(y_true, y_pred)\n",
    "    return 2*((precision*recall)/(precision+recall+K.epsilon()))\n",
    "\n",
    "\n"
   ]
  },
  {
   "cell_type": "code",
   "execution_count": 9,
   "metadata": {},
   "outputs": [
    {
     "name": "stdout",
     "output_type": "stream",
     "text": [
      "[INFO] compiling model...\n"
     ]
    }
   ],
   "source": [
    "# ## Compiled model using Adam optimizer and computed accuracy and f1 score\n",
    "\n",
    "print(\"[INFO] compiling model...\")\n",
    "#opt = SGD(lr=INIT_LR, momentum=0.9, decay=INIT_LR / EPOCHS)\n",
    "\n",
    "# optimiser intitialisation\n",
    "\n",
    "\n",
    "\n",
    "#decay_rate = INIT_LR \n",
    "#decay_rate = INIT_LR / EPOCHS \n",
    "\n",
    "# learning rate schedule\n",
    "\n",
    "# initial_lrate = 0.1\n",
    "# drop = 0.5\n",
    "# epochs_drop = 10.0\n",
    "\n",
    "# def step_decay(epoch):\n",
    "# \t#lrrate = math.floor(initial_lrate/3.0)    \n",
    "# \tlrate = initial_lrate * math.pow(drop, math.floor((1+epoch)/epochs_drop))\n",
    "# \t#decay_rate.append(lrrate)\n",
    "# \treturn lrate\n",
    " \n",
    "\n",
    "#learning_rate=0.1\n",
    "#decay_rate=learning_rate/ 3\n",
    "\n",
    "#opt = keras.optimizers.Adam(lr=0.1, beta_1=0.9, beta_2=0.999, epsilon=1e-08, decay=decay_rate)\n"
   ]
  },
  {
   "cell_type": "code",
   "execution_count": 10,
   "metadata": {},
   "outputs": [],
   "source": [
    "# data augmentation\n",
    "\n",
    "train_datagen = ImageDataGenerator(\n",
    "       \n",
    "       # preprocessing_function=preprocess_input,\n",
    "        \n",
    "        adaptive_equalization=True, \n",
    "        #histogram_equalization=True,\n",
    "        rotation_range=90,\n",
    "        #brightness_range=[0.5,2],\n",
    "        width_shift_range=0.1,\n",
    "        height_shift_range=0.1,\n",
    "       \n",
    "        horizontal_flip=True,\n",
    "        vertical_flip=True,\n",
    "        fill_mode='nearest')\n",
    "\n",
    "\n"
   ]
  },
  {
   "cell_type": "code",
   "execution_count": 11,
   "metadata": {},
   "outputs": [],
   "source": [
    "MIN_LR = 1e-4\n",
    "MAX_LR = 1e-3\n",
    "BATCH_SIZE = 16\n",
    "STEP_SIZE = 8\n",
    "CLR_METHOD = \"triangular\"\n",
    "NUM_EPOCHS = 5\n",
    "CLASSES=['abnormal','normal']\n",
    "\n",
    "\n",
    "# define the path to the output learning rate finder plot, training\n",
    "# history plot and cyclical learning rate plot\n",
    "LRFIND_PLOT_PATH = os.path.sep.join([\"output\", \"lrfind_plot.png\"])\n",
    "TRAINING_PLOT_PATH = os.path.sep.join([\"output\", \"training_loss.png\"])\n",
    "TRAINING_PLOT_ACC_PATH = os.path.sep.join([\"output\", \"training_acc.png\"])\n",
    "CLR_PLOT_PATH = os.path.sep.join([\"output\", \"clr_plot.png\"])\n",
    "\n"
   ]
  },
  {
   "cell_type": "code",
   "execution_count": 12,
   "metadata": {},
   "outputs": [],
   "source": [
    "opt = keras.optimizers.Adam(lr=0.1)\n",
    "model.compile(optimizer=opt,loss='categorical_crossentropy',metrics=['accuracy',f1])\n",
    "\n",
    "\n"
   ]
  },
  {
   "cell_type": "code",
   "execution_count": 13,
   "metadata": {},
   "outputs": [
    {
     "name": "stdout",
     "output_type": "stream",
     "text": [
      "[INFO] finding learning rate...\n",
      "Epoch 1/5\n",
      "46/46 [==============================] - 63s 1s/step - loss: 1.1761 - accuracy: 0.5539 - f1: 0.5538\n",
      "Epoch 2/5\n",
      "46/46 [==============================] - 66s 1s/step - loss: 1.1423 - accuracy: 0.5416 - f1: 0.5416\n",
      "Epoch 3/5\n",
      "46/46 [==============================] - 65s 1s/step - loss: 1.0018 - accuracy: 0.6194 - f1: 0.6190\n",
      "Epoch 4/5\n",
      "46/46 [==============================] - 63s 1s/step - loss: 3.4220 - accuracy: 0.8076 - f1: 0.8078\n",
      "Epoch 5/5\n",
      " 1/46 [..............................] - ETA: 1:07 - loss: 44.1027 - accuracy: 0.7500 - f1: 0.7500[INFO] learning rate finder complete\n",
      "[INFO] examine plot and adjust learning rates before training\n"
     ]
    },
    {
     "data": {
      "image/png": "[encoded data removed]",
      "text/plain": [
       "<Figure size 432x288 with 1 Axes>"
      ]
     },
     "metadata": {
      "needs_background": "light"
     },
     "output_type": "display_data"
    }
   ],
   "source": [
    "rate=0\n",
    "if rate!=1:\n",
    "\tprint(\"[INFO] finding learning rate...\")\n",
    "\tlrf = LearningRateFinder(model)\n",
    "\tlrf.find(\n",
    "\t\ttrain_datagen.flow(trainX, trainY, batch_size=BATCH_SIZE),\n",
    "\t\t1e-12, 1e+1,epochs=5,\n",
    "\t\tstepsPerEpoch=np.ceil((len(trainX) / float(BATCH_SIZE))),\n",
    "\t\tbatchSize=BATCH_SIZE)\n",
    "\t \n",
    "\t\t# plot the loss for the various learning rates and save the\n",
    "\t\t# resulting plot to disk\n",
    "\tlrf.plot_loss()\n",
    "\tplt.savefig(LRFIND_PLOT_PATH)\n",
    "\tprint(\"[INFO] learning rate finder complete\")\n",
    "\tprint(\"[INFO] examine plot and adjust learning rates before training\")\n",
    "\t#sys.exit(0)\n",
    "\n",
    "\n",
    "\n"
   ]
  },
  {
   "cell_type": "code",
   "execution_count": 14,
   "metadata": {},
   "outputs": [],
   "source": [
    "# hyperparameter tuning\n",
    "import math\n",
    "rates=[]\n",
    "stepSize = STEP_SIZE * (trainX.shape[0] // BATCH_SIZE)\n",
    "clr = CyclicLR(\n",
    "\tmode=CLR_METHOD,\n",
    "\tbase_lr=MIN_LR,\n",
    "\tmax_lr=MAX_LR,\n",
    "\tstep_size=stepSize)\n",
    "\n",
    "opt = keras.optimizers.Adam(lr=0.1)\n",
    "model.compile(optimizer=opt,loss='categorical_crossentropy',metrics=['accuracy',f1])\n",
    "\n",
    "\n",
    "# initial rate is set based on learning rate finder max value\n",
    "initial_lrate=1e-1\n",
    "def time_decay(EPOCHS, initial_lrate):\n",
    "    decay_rate = 0.1\n",
    "    new_lrate = initial_lrate/(1+decay_rate*EPOCHS)\n",
    "    return new_lrate\n",
    "\n",
    "initial_lrate=1e-1\n",
    "def time_decay1(EPOCHS, initial_lrate):\n",
    "    decay_rate = 0.1\n",
    "    epochs_drop=3.0\n",
    "    new_lrate = initial_lrate/(1+decay_rate*math.floor((1+EPOCHS)/epochs_drop) )\n",
    "    rates.append(new_lrate)\n",
    "    return new_lrate\n",
    "\n",
    "def step_decay(EPOCHS):\n",
    "    initial_lrate=1e-1\n",
    "    drop=0.5\n",
    "    epochs_drop=3.0\n",
    "    new_lrate=initial_lrate*math.pow(drop,math.floor((1+EPOCHS)/epochs_drop))\n",
    "    return new_lrate\n",
    "\n",
    "from keras.callbacks import LearningRateScheduler\n",
    "lrate = LearningRateScheduler(time_decay,verbose=1)\n",
    "\n",
    "lrate1 = LearningRateScheduler(step_decay,verbose=1)\n",
    "\n",
    "lrate2 = LearningRateScheduler(time_decay1,verbose=1)\n",
    "\n",
    "\n",
    "filepath=\" binary 26 Adam 0.1 binary weights-improvement-{epoch:02d}-{val_accuracy:.2f}.hdf5\"\n",
    "checkpoint = ModelCheckpoint(filepath, monitor='val_accuracy', verbose=1, save_best_only=True, mode='max')\n",
    "\n",
    "#early = keras.callbacks.EarlyStopping(monitor='val_loss', min_delta=1e-4, patience=10)\n",
    "reduce1 = keras.callbacks.ReduceLROnPlateau(monitor='val_accuracy', verbose=1,factor= 0.33, patience=1,min_lr=1e-4)\n",
    "\n",
    "\n",
    "#lrate = LearningRateScheduler(step_decay, verbose=1)\n",
    "\n",
    "\n",
    "#callbacks_list = [checkpoint,early,reduce1]\n",
    "\n",
    "#callbacks_list = [checkpoint,reduce1,lrate]\n",
    "\n",
    "#callbacks_list = [checkpoint,reduce1]\n",
    "\n",
    "\n",
    "callbacks_list = [checkpoint,lrate2]\n",
    "\n",
    "\n",
    "\n",
    "\n",
    "\n",
    "#validation_generator = val_datagen.flow(testX, testY)\n",
    "\n",
    "\n",
    "\n"
   ]
  },
  {
   "cell_type": "code",
   "execution_count": 16,
   "metadata": {
    "scrolled": false
   },
   "outputs": [
    {
     "name": "stdout",
     "output_type": "stream",
     "text": [
      "[INFO] training network...\n",
      "Epoch 1/15\n",
      "\n",
      "Epoch 00001: LearningRateScheduler setting learning rate to 0.10000000149011612.\n",
      " - 79s - loss: 394.5406 - accuracy: 0.8229 - f1: 0.8226 - val_loss: 395.4860 - val_accuracy: 0.8750 - val_f1: 0.8698\n",
      "\n",
      "Epoch 00001: val_accuracy improved from -inf to 0.87500, saving model to  binary 26 Adam 0.1 binary weights-improvement-01-0.88.hdf5\n",
      "Epoch 2/15\n",
      "\n",
      "Epoch 00002: LearningRateScheduler setting learning rate to 0.10000000149011612.\n",
      " - 80s - loss: 257.1295 - accuracy: 0.8466 - f1: 0.8469 - val_loss: 930.2053 - val_accuracy: 0.8043 - val_f1: 0.8021\n",
      "\n",
      "Epoch 00002: val_accuracy did not improve from 0.87500\n",
      "Epoch 3/15\n",
      "\n",
      "Epoch 00003: LearningRateScheduler setting learning rate to 0.09090909226374191.\n",
      " - 80s - loss: 243.9890 - accuracy: 0.8647 - f1: 0.8653 - val_loss: 481.2803 - val_accuracy: 0.8804 - val_f1: 0.8750\n",
      "\n",
      "Epoch 00003: val_accuracy improved from 0.87500 to 0.88043, saving model to  binary 26 Adam 0.1 binary weights-improvement-03-0.88.hdf5\n",
      "Epoch 4/15\n",
      "\n",
      "Epoch 00004: LearningRateScheduler setting learning rate to 0.0826446305621754.\n",
      " - 79s - loss: 190.5205 - accuracy: 0.8842 - f1: 0.8847 - val_loss: 275.2269 - val_accuracy: 0.8913 - val_f1: 0.8906\n",
      "\n",
      "Epoch 00004: val_accuracy improved from 0.88043 to 0.89130, saving model to  binary 26 Adam 0.1 binary weights-improvement-04-0.89.hdf5\n",
      "Epoch 5/15\n",
      "\n",
      "Epoch 00005: LearningRateScheduler setting learning rate to 0.07513148540800267.\n",
      " - 79s - loss: 258.3351 - accuracy: 0.8577 - f1: 0.8577 - val_loss: 283.7158 - val_accuracy: 0.8696 - val_f1: 0.8698\n",
      "\n",
      "Epoch 00005: val_accuracy did not improve from 0.89130\n",
      "Epoch 6/15\n",
      "\n",
      "Epoch 00006: LearningRateScheduler setting learning rate to 0.0626095694800218.\n",
      " - 79s - loss: 159.9348 - accuracy: 0.9079 - f1: 0.9077 - val_loss: 343.7922 - val_accuracy: 0.8424 - val_f1: 0.8385\n",
      "\n",
      "Epoch 00006: val_accuracy did not improve from 0.89130\n",
      "Epoch 7/15\n",
      "\n",
      "Epoch 00007: LearningRateScheduler setting learning rate to 0.05217464019854864.\n",
      " - 79s - loss: 143.3477 - accuracy: 0.9111 - f1: 0.9111 - val_loss: 369.6235 - val_accuracy: 0.8207 - val_f1: 0.8125\n",
      "\n",
      "Epoch 00007: val_accuracy did not improve from 0.89130\n",
      "Epoch 8/15\n",
      "\n",
      "Epoch 00008: LearningRateScheduler setting learning rate to 0.043478865797321006.\n",
      " - 80s - loss: 130.5351 - accuracy: 0.9020 - f1: 0.9015 - val_loss: 301.3860 - val_accuracy: 0.8533 - val_f1: 0.8490\n",
      "\n",
      "Epoch 00008: val_accuracy did not improve from 0.89130\n",
      "Epoch 9/15\n",
      "\n",
      "Epoch 00009: LearningRateScheduler setting learning rate to 0.033445280904953294.\n",
      " - 82s - loss: 101.2734 - accuracy: 0.9275 - f1: 0.9278 - val_loss: 353.7764 - val_accuracy: 0.8859 - val_f1: 0.8854\n",
      "\n",
      "Epoch 00009: val_accuracy did not improve from 0.89130\n",
      "Epoch 10/15\n",
      "\n",
      "Epoch 00010: LearningRateScheduler setting learning rate to 0.025727138496362247.\n",
      " - 83s - loss: 120.1614 - accuracy: 0.9111 - f1: 0.9111 - val_loss: 296.5171 - val_accuracy: 0.8967 - val_f1: 0.8958\n",
      "\n",
      "Epoch 00010: val_accuracy improved from 0.89130 to 0.89674, saving model to  binary 26 Adam 0.1 binary weights-improvement-10-0.90.hdf5\n",
      "Epoch 11/15\n",
      "\n",
      "Epoch 00011: LearningRateScheduler setting learning rate to 0.01979010609480051.\n",
      " - 82s - loss: 120.3025 - accuracy: 0.9048 - f1: 0.9046 - val_loss: 252.8109 - val_accuracy: 0.9022 - val_f1: 0.9077\n",
      "\n",
      "Epoch 00011: val_accuracy improved from 0.89674 to 0.90217, saving model to  binary 26 Adam 0.1 binary weights-improvement-11-0.90.hdf5\n",
      "Epoch 12/15\n",
      "\n",
      "Epoch 00012: LearningRateScheduler setting learning rate to 0.01413578965834209.\n",
      " - 79s - loss: 77.7770 - accuracy: 0.9358 - f1: 0.9355 - val_loss: 269.8240 - val_accuracy: 0.8859 - val_f1: 0.8854\n",
      "\n",
      "Epoch 00012: val_accuracy did not improve from 0.90217\n",
      "Epoch 13/15\n",
      "\n",
      "Epoch 00013: LearningRateScheduler setting learning rate to 0.01009699289820024.\n",
      " - 79s - loss: 94.0201 - accuracy: 0.9233 - f1: 0.9233 - val_loss: 258.8612 - val_accuracy: 0.8859 - val_f1: 0.8802\n",
      "\n",
      "Epoch 00013: val_accuracy did not improve from 0.90217\n",
      "Epoch 14/15\n",
      "\n",
      "Epoch 00014: LearningRateScheduler setting learning rate to 0.00721213806952749.\n",
      " - 79s - loss: 92.2631 - accuracy: 0.9222 - f1: 0.9222 - val_loss: 247.5489 - val_accuracy: 0.8913 - val_f1: 0.8854\n",
      "\n",
      "Epoch 00014: val_accuracy did not improve from 0.90217\n",
      "Epoch 15/15\n",
      "\n",
      "Epoch 00015: LearningRateScheduler setting learning rate to 0.004808092179397742.\n",
      " - 79s - loss: 97.0784 - accuracy: 0.9118 - f1: 0.9119 - val_loss: 263.1778 - val_accuracy: 0.8967 - val_f1: 0.8958\n",
      "\n",
      "Epoch 00015: val_accuracy did not improve from 0.90217\n"
     ]
    }
   ],
   "source": [
    "EPOCHS = 15\n",
    "print(\"[INFO] training network...\")\n",
    "H = model.fit_generator(\n",
    "\ttrain_datagen.flow(trainX, trainY, batch_size=BATCH_SIZE),\n",
    "\tvalidation_data=(testX, testY),\n",
    "\tsteps_per_epoch=trainX.shape[0] // BATCH_SIZE,\n",
    "\tepochs=EPOCHS,\n",
    "\tcallbacks=callbacks_list,\n",
    "\tverbose=2)\n",
    "\n",
    "\n",
    "\n",
    "#INIT_LR = 1e-1\n",
    "#BS = 64\n",
    "\n",
    "\n"
   ]
  },
  {
   "cell_type": "code",
   "execution_count": null,
   "metadata": {},
   "outputs": [],
   "source": []
  },
  {
   "cell_type": "code",
   "execution_count": 17,
   "metadata": {},
   "outputs": [
    {
     "name": "stdout",
     "output_type": "stream",
     "text": [
      "[INFO] evaluating network...\n",
      "              precision    recall  f1-score   support\n",
      "\n",
      "    abnormal       0.91      0.96      0.93       138\n",
      "      normal       0.85      0.72      0.78        46\n",
      "\n",
      "    accuracy                           0.90       184\n",
      "   macro avg       0.88      0.84      0.85       184\n",
      "weighted avg       0.89      0.90      0.89       184\n",
      "\n"
     ]
    }
   ],
   "source": [
    "# evaluate the network and show a classification report\n",
    "print(\"[INFO] evaluating network...\")\n",
    "predictions = model.predict(testX, batch_size=BATCH_SIZE)\n",
    "print(classification_report(testY.argmax(axis=1),\n",
    "\tpredictions.argmax(axis=1), target_names=CLASSES))\n",
    "\n",
    "\n",
    "\n",
    "\n"
   ]
  },
  {
   "cell_type": "code",
   "execution_count": 18,
   "metadata": {},
   "outputs": [
    {
     "data": {
      "image/png": "[encoded data removed]",
      "text/plain": [
       "<Figure size 432x288 with 1 Axes>"
      ]
     },
     "metadata": {},
     "output_type": "display_data"
    }
   ],
   "source": [
    "\n",
    "# construct a plot that plots and saves the training history\n",
    "N = np.arange(0, EPOCHS)\n",
    "plt.style.use(\"ggplot\")\n",
    "plt.figure()\n",
    "plt.plot(N, H.history[\"loss\"], label=\"train_loss\")\n",
    "plt.plot(N, H.history[\"val_loss\"], label=\"val_loss\")\n",
    "#plt.plot(N, H.history[\"accuracy\"], label=\"train_acc\")\n",
    "#plt.plot(N, H.history[\"val_accuracy\"], label=\"val_acc\")\n",
    "plt.title(\"Training Loss \")\n",
    "plt.xlabel(\"Epoch #\")\n",
    "plt.ylabel(\"Loss\")\n",
    "plt.legend(loc=\"lower left\")\n",
    "plt.savefig(TRAINING_PLOT_PATH)"
   ]
  },
  {
   "cell_type": "code",
   "execution_count": 19,
   "metadata": {},
   "outputs": [
    {
     "data": {
      "image/png": "[encoded data removed]",
      "text/plain": [
       "<Figure size 432x288 with 1 Axes>"
      ]
     },
     "metadata": {},
     "output_type": "display_data"
    }
   ],
   "source": [
    "\n",
    "# construct a plot that plots and saves the training history\n",
    "N = np.arange(0, EPOCHS)\n",
    "plt.style.use(\"ggplot\")\n",
    "plt.figure()\n",
    "#plt.plot(N, H.history[\"loss\"], label=\"train_loss\")\n",
    "#plt.plot(N, H.history[\"val_loss\"], label=\"val_loss\")\n",
    "plt.plot(N, H.history[\"accuracy\"], label=\"train_acc\")\n",
    "plt.plot(N, H.history[\"val_accuracy\"], label=\"val_acc\")\n",
    "plt.title(\"Training Accuracy\")\n",
    "plt.xlabel(\"Epoch #\")\n",
    "plt.ylabel(\"Accuracy\")\n",
    "plt.legend(loc=\"lower left\")\n",
    "plt.savefig(TRAINING_PLOT_ACC_PATH)\n",
    "\n",
    "\n"
   ]
  },
  {
   "cell_type": "code",
   "execution_count": 21,
   "metadata": {},
   "outputs": [
    {
     "ename": "ValueError",
     "evalue": "x and y must have same first dimension, but have shapes (15,) and (16,)",
     "output_type": "error",
     "traceback": [
      "\u001b[0;31m---------------------------------------------------------------------------\u001b[0m",
      "\u001b[0;31mValueError\u001b[0m                                Traceback (most recent call last)",
      "\u001b[0;32m<ipython-input-21-dd172b96fb99>\u001b[0m in \u001b[0;36m<module>\u001b[0;34m\u001b[0m\n\u001b[1;32m      4\u001b[0m \u001b[0;31m#plt.plot(N, H.history[\"loss\"], label=\"train_loss\")\u001b[0m\u001b[0;34m\u001b[0m\u001b[0;34m\u001b[0m\u001b[0;34m\u001b[0m\u001b[0m\n\u001b[1;32m      5\u001b[0m \u001b[0;31m#plt.plot(N, H.history[\"val_loss\"], label=\"val_loss\")\u001b[0m\u001b[0;34m\u001b[0m\u001b[0;34m\u001b[0m\u001b[0;34m\u001b[0m\u001b[0m\n\u001b[0;32m----> 6\u001b[0;31m \u001b[0mplt\u001b[0m\u001b[0;34m.\u001b[0m\u001b[0mplot\u001b[0m\u001b[0;34m(\u001b[0m\u001b[0mN\u001b[0m\u001b[0;34m,\u001b[0m \u001b[0mrates\u001b[0m\u001b[0;34m,\u001b[0m \u001b[0mlabel\u001b[0m\u001b[0;34m=\u001b[0m\u001b[0;34m\"learning rates\"\u001b[0m\u001b[0;34m)\u001b[0m\u001b[0;34m\u001b[0m\u001b[0;34m\u001b[0m\u001b[0m\n\u001b[0m\u001b[1;32m      7\u001b[0m \u001b[0;31m#plt.plot(N, H.history[\"val_accuracy\"], label=\"val_acc\")\u001b[0m\u001b[0;34m\u001b[0m\u001b[0;34m\u001b[0m\u001b[0;34m\u001b[0m\u001b[0m\n\u001b[1;32m      8\u001b[0m \u001b[0mplt\u001b[0m\u001b[0;34m.\u001b[0m\u001b[0mtitle\u001b[0m\u001b[0;34m(\u001b[0m\u001b[0;34m\"Learning rate scheduler\"\u001b[0m\u001b[0;34m)\u001b[0m\u001b[0;34m\u001b[0m\u001b[0;34m\u001b[0m\u001b[0m\n",
      "\u001b[0;32m~/anaconda3/lib/python3.7/site-packages/matplotlib/pyplot.py\u001b[0m in \u001b[0;36mplot\u001b[0;34m(scalex, scaley, data, *args, **kwargs)\u001b[0m\n\u001b[1;32m   2793\u001b[0m     return gca().plot(\n\u001b[1;32m   2794\u001b[0m         *args, scalex=scalex, scaley=scaley, **({\"data\": data} if data\n\u001b[0;32m-> 2795\u001b[0;31m         is not None else {}), **kwargs)\n\u001b[0m\u001b[1;32m   2796\u001b[0m \u001b[0;34m\u001b[0m\u001b[0m\n\u001b[1;32m   2797\u001b[0m \u001b[0;34m\u001b[0m\u001b[0m\n",
      "\u001b[0;32m~/anaconda3/lib/python3.7/site-packages/matplotlib/axes/_axes.py\u001b[0m in \u001b[0;36mplot\u001b[0;34m(self, scalex, scaley, data, *args, **kwargs)\u001b[0m\n\u001b[1;32m   1664\u001b[0m         \"\"\"\n\u001b[1;32m   1665\u001b[0m         \u001b[0mkwargs\u001b[0m \u001b[0;34m=\u001b[0m \u001b[0mcbook\u001b[0m\u001b[0;34m.\u001b[0m\u001b[0mnormalize_kwargs\u001b[0m\u001b[0;34m(\u001b[0m\u001b[0mkwargs\u001b[0m\u001b[0;34m,\u001b[0m \u001b[0mmlines\u001b[0m\u001b[0;34m.\u001b[0m\u001b[0mLine2D\u001b[0m\u001b[0;34m.\u001b[0m\u001b[0m_alias_map\u001b[0m\u001b[0;34m)\u001b[0m\u001b[0;34m\u001b[0m\u001b[0;34m\u001b[0m\u001b[0m\n\u001b[0;32m-> 1666\u001b[0;31m         \u001b[0mlines\u001b[0m \u001b[0;34m=\u001b[0m \u001b[0;34m[\u001b[0m\u001b[0;34m*\u001b[0m\u001b[0mself\u001b[0m\u001b[0;34m.\u001b[0m\u001b[0m_get_lines\u001b[0m\u001b[0;34m(\u001b[0m\u001b[0;34m*\u001b[0m\u001b[0margs\u001b[0m\u001b[0;34m,\u001b[0m \u001b[0mdata\u001b[0m\u001b[0;34m=\u001b[0m\u001b[0mdata\u001b[0m\u001b[0;34m,\u001b[0m \u001b[0;34m**\u001b[0m\u001b[0mkwargs\u001b[0m\u001b[0;34m)\u001b[0m\u001b[0;34m]\u001b[0m\u001b[0;34m\u001b[0m\u001b[0;34m\u001b[0m\u001b[0m\n\u001b[0m\u001b[1;32m   1667\u001b[0m         \u001b[0;32mfor\u001b[0m \u001b[0mline\u001b[0m \u001b[0;32min\u001b[0m \u001b[0mlines\u001b[0m\u001b[0;34m:\u001b[0m\u001b[0;34m\u001b[0m\u001b[0;34m\u001b[0m\u001b[0m\n\u001b[1;32m   1668\u001b[0m             \u001b[0mself\u001b[0m\u001b[0;34m.\u001b[0m\u001b[0madd_line\u001b[0m\u001b[0;34m(\u001b[0m\u001b[0mline\u001b[0m\u001b[0;34m)\u001b[0m\u001b[0;34m\u001b[0m\u001b[0;34m\u001b[0m\u001b[0m\n",
      "\u001b[0;32m~/anaconda3/lib/python3.7/site-packages/matplotlib/axes/_base.py\u001b[0m in \u001b[0;36m__call__\u001b[0;34m(self, *args, **kwargs)\u001b[0m\n\u001b[1;32m    223\u001b[0m                 \u001b[0mthis\u001b[0m \u001b[0;34m+=\u001b[0m \u001b[0margs\u001b[0m\u001b[0;34m[\u001b[0m\u001b[0;36m0\u001b[0m\u001b[0;34m]\u001b[0m\u001b[0;34m,\u001b[0m\u001b[0;34m\u001b[0m\u001b[0;34m\u001b[0m\u001b[0m\n\u001b[1;32m    224\u001b[0m                 \u001b[0margs\u001b[0m \u001b[0;34m=\u001b[0m \u001b[0margs\u001b[0m\u001b[0;34m[\u001b[0m\u001b[0;36m1\u001b[0m\u001b[0;34m:\u001b[0m\u001b[0;34m]\u001b[0m\u001b[0;34m\u001b[0m\u001b[0;34m\u001b[0m\u001b[0m\n\u001b[0;32m--> 225\u001b[0;31m             \u001b[0;32myield\u001b[0m \u001b[0;32mfrom\u001b[0m \u001b[0mself\u001b[0m\u001b[0;34m.\u001b[0m\u001b[0m_plot_args\u001b[0m\u001b[0;34m(\u001b[0m\u001b[0mthis\u001b[0m\u001b[0;34m,\u001b[0m \u001b[0mkwargs\u001b[0m\u001b[0;34m)\u001b[0m\u001b[0;34m\u001b[0m\u001b[0;34m\u001b[0m\u001b[0m\n\u001b[0m\u001b[1;32m    226\u001b[0m \u001b[0;34m\u001b[0m\u001b[0m\n\u001b[1;32m    227\u001b[0m     \u001b[0;32mdef\u001b[0m \u001b[0mget_next_color\u001b[0m\u001b[0;34m(\u001b[0m\u001b[0mself\u001b[0m\u001b[0;34m)\u001b[0m\u001b[0;34m:\u001b[0m\u001b[0;34m\u001b[0m\u001b[0;34m\u001b[0m\u001b[0m\n",
      "\u001b[0;32m~/anaconda3/lib/python3.7/site-packages/matplotlib/axes/_base.py\u001b[0m in \u001b[0;36m_plot_args\u001b[0;34m(self, tup, kwargs)\u001b[0m\n\u001b[1;32m    389\u001b[0m             \u001b[0mx\u001b[0m\u001b[0;34m,\u001b[0m \u001b[0my\u001b[0m \u001b[0;34m=\u001b[0m \u001b[0mindex_of\u001b[0m\u001b[0;34m(\u001b[0m\u001b[0mtup\u001b[0m\u001b[0;34m[\u001b[0m\u001b[0;34m-\u001b[0m\u001b[0;36m1\u001b[0m\u001b[0;34m]\u001b[0m\u001b[0;34m)\u001b[0m\u001b[0;34m\u001b[0m\u001b[0;34m\u001b[0m\u001b[0m\n\u001b[1;32m    390\u001b[0m \u001b[0;34m\u001b[0m\u001b[0m\n\u001b[0;32m--> 391\u001b[0;31m         \u001b[0mx\u001b[0m\u001b[0;34m,\u001b[0m \u001b[0my\u001b[0m \u001b[0;34m=\u001b[0m \u001b[0mself\u001b[0m\u001b[0;34m.\u001b[0m\u001b[0m_xy_from_xy\u001b[0m\u001b[0;34m(\u001b[0m\u001b[0mx\u001b[0m\u001b[0;34m,\u001b[0m \u001b[0my\u001b[0m\u001b[0;34m)\u001b[0m\u001b[0;34m\u001b[0m\u001b[0;34m\u001b[0m\u001b[0m\n\u001b[0m\u001b[1;32m    392\u001b[0m \u001b[0;34m\u001b[0m\u001b[0m\n\u001b[1;32m    393\u001b[0m         \u001b[0;32mif\u001b[0m \u001b[0mself\u001b[0m\u001b[0;34m.\u001b[0m\u001b[0mcommand\u001b[0m \u001b[0;34m==\u001b[0m \u001b[0;34m'plot'\u001b[0m\u001b[0;34m:\u001b[0m\u001b[0;34m\u001b[0m\u001b[0;34m\u001b[0m\u001b[0m\n",
      "\u001b[0;32m~/anaconda3/lib/python3.7/site-packages/matplotlib/axes/_base.py\u001b[0m in \u001b[0;36m_xy_from_xy\u001b[0;34m(self, x, y)\u001b[0m\n\u001b[1;32m    268\u001b[0m         \u001b[0;32mif\u001b[0m \u001b[0mx\u001b[0m\u001b[0;34m.\u001b[0m\u001b[0mshape\u001b[0m\u001b[0;34m[\u001b[0m\u001b[0;36m0\u001b[0m\u001b[0;34m]\u001b[0m \u001b[0;34m!=\u001b[0m \u001b[0my\u001b[0m\u001b[0;34m.\u001b[0m\u001b[0mshape\u001b[0m\u001b[0;34m[\u001b[0m\u001b[0;36m0\u001b[0m\u001b[0;34m]\u001b[0m\u001b[0;34m:\u001b[0m\u001b[0;34m\u001b[0m\u001b[0;34m\u001b[0m\u001b[0m\n\u001b[1;32m    269\u001b[0m             raise ValueError(\"x and y must have same first dimension, but \"\n\u001b[0;32m--> 270\u001b[0;31m                              \"have shapes {} and {}\".format(x.shape, y.shape))\n\u001b[0m\u001b[1;32m    271\u001b[0m         \u001b[0;32mif\u001b[0m \u001b[0mx\u001b[0m\u001b[0;34m.\u001b[0m\u001b[0mndim\u001b[0m \u001b[0;34m>\u001b[0m \u001b[0;36m2\u001b[0m \u001b[0;32mor\u001b[0m \u001b[0my\u001b[0m\u001b[0;34m.\u001b[0m\u001b[0mndim\u001b[0m \u001b[0;34m>\u001b[0m \u001b[0;36m2\u001b[0m\u001b[0;34m:\u001b[0m\u001b[0;34m\u001b[0m\u001b[0;34m\u001b[0m\u001b[0m\n\u001b[1;32m    272\u001b[0m             raise ValueError(\"x and y can be no greater than 2-D, but have \"\n",
      "\u001b[0;31mValueError\u001b[0m: x and y must have same first dimension, but have shapes (15,) and (16,)"
     ]
    },
    {
     "data": {
      "image/png": "[encoded data removed]",
      "text/plain": [
       "<Figure size 432x288 with 1 Axes>"
      ]
     },
     "metadata": {},
     "output_type": "display_data"
    }
   ],
   "source": [
    "N = np.arange(0, EPOCHS)\n",
    "plt.style.use(\"ggplot\")\n",
    "plt.figure()\n",
    "#plt.plot(N, H.history[\"loss\"], label=\"train_loss\")\n",
    "#plt.plot(N, H.history[\"val_loss\"], label=\"val_loss\")\n",
    "plt.plot(N, rates, label=\"learning rates\")\n",
    "#plt.plot(N, H.history[\"val_accuracy\"], label=\"val_acc\")\n",
    "plt.title(\"Learning rate scheduler\")\n",
    "plt.xlabel(\"Epoch #\")\n",
    "plt.ylabel(\"Learning rate\")\n",
    "plt.legend(loc=\"lower left\")"
   ]
  },
  {
   "cell_type": "code",
   "execution_count": null,
   "metadata": {},
   "outputs": [],
   "source": [
    "# # plot the learning rate history\n",
    "# N = np.arange(0, len(clr.history[\"lr\"]))\n",
    "# plt.figure()\n",
    "# plt.plot(N, clr.history[\"lr\"])\n",
    "# plt.title(\"Cyclical Learning Rate (CLR)\")\n",
    "# plt.xlabel(\"Training Iterations\")\n",
    "# plt.ylabel(\"Learning Rate\")\n",
    "# plt.savefig(CLR_PLOT_PATH)"
   ]
  },
  {
   "cell_type": "code",
   "execution_count": null,
   "metadata": {},
   "outputs": [],
   "source": []
  }
 ],
 "metadata": {
  "kernelspec": {
   "display_name": "Python 3",
   "language": "python",
   "name": "python3"
  },
  "language_info": {
   "codemirror_mode": {
    "name": "ipython",
    "version": 3
   },
   "file_extension": ".py",
   "mimetype": "text/x-python",
   "name": "python",
   "nbconvert_exporter": "python",
   "pygments_lexer": "ipython3",
   "version": "3.7.4"
  }
 },
 "nbformat": 4,
 "nbformat_minor": 2
}
