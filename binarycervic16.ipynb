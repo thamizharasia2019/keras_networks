{
 "cells": [
  {
   "cell_type": "code",
   "execution_count": 1,
   "metadata": {},
   "outputs": [
    {
     "name": "stderr",
     "output_type": "stream",
     "text": [
      "Using TensorFlow backend.\n"
     ]
    }
   ],
   "source": [
    "\n",
    "\n",
    "from sklearn.preprocessing import LabelEncoder\n",
    "from sklearn.model_selection import train_test_split\n",
    "from sklearn.metrics import classification_report\n",
    "from keras.preprocessing.image import ImageDataGenerator\n",
    "from keras.optimizers import SGD\n",
    "from keras.utils import np_utils\n",
    "from imutils import paths\n",
    "import matplotlib.pyplot as plt\n",
    "import numpy as np\n",
    "import argparse\n",
    "import cv2\n",
    "import os\n",
    "import math\n",
    "import keras\n",
    "from keras.layers import Dense,GlobalAveragePooling2D\n",
    "from keras.preprocessing import image\n",
    "from keras.models import Model\n",
    "from keras.optimizers import Adam\n",
    "from keras.applications import ResNet50\n",
    "\n",
    "\n",
    "from keras.applications import imagenet_utils\n",
    "from keras.preprocessing.image import load_img,img_to_array\n",
    "from keras.preprocessing.image import load_img\n",
    "\n",
    "from keras.callbacks import ModelCheckpoint\n",
    "from keras.applications.imagenet_utils import preprocess_input\n",
    "\n",
    "\n",
    "from keras.callbacks import LearningRateScheduler\n",
    "\n",
    "from keras_radam import RAdam\n",
    "\n",
    "from pyimagesearch.learningratefinder import LearningRateFinder\n",
    "#from pyimagesearch import config\n",
    "from pyimagesearch.clr_callback import CyclicLR\n",
    "from keras import backend as K\n",
    "\n",
    "import sys\n",
    "from imutils import paths\n",
    "\n"
   ]
  },
  {
   "cell_type": "code",
   "execution_count": 2,
   "metadata": {},
   "outputs": [
    {
     "name": "stdout",
     "output_type": "stream",
     "text": [
      "[INFO] loading images...\n"
     ]
    }
   ],
   "source": [
    "# # construct the argument parser and parse the arguments\n",
    "# ap = argparse.ArgumentParser()\n",
    "# ap.add_argument(\"-d\", \"--dataset\", required=True,\n",
    "# \thelp=\"path to input dataset\")\n",
    "# #ap.add_argument(\"-a\", \"--augment\", type=int, default=-1,\n",
    "# #\thelp=\"whether or not 'on the fly' data augmentation should be used\")\n",
    "# #ap.add_argument(\"-p\", \"--plot\", type=str, default=\"plot.png\",\n",
    "# #\thelp=\"path to output loss/accuracy plot\")\n",
    "# args = vars(ap.parse_args())\n",
    "# # # Using Resnet50 and initialised with weights of imagenet\n",
    "# # ## images in smear 2005 are resized to 224 x224 \n",
    "\n",
    "\n",
    "\n",
    "\n",
    "\n",
    "# grab the list of images in our dataset directory, then initialize\n",
    "# the list of data (i.e., images) and class images\n",
    "print(\"[INFO] loading images...\")\n",
    "#imagePaths = list(paths.list_images(args[\"dataset\"]))\n",
    "imagePaths = list(paths.list_images('./dataset_binary/'))\n",
    "#print(imagePaths)\n",
    "data = []\n",
    "labels = []\n",
    " \n",
    "# loop over the image paths\n",
    "for imagePath in imagePaths:\n",
    "\t# extract the class label from the filename, load the image, and\n",
    "\t# resize it to be a fixed 64x64 pixels, ignoring aspect ratio\n",
    "\tlabel = imagePath.split(os.path.sep)[-2]\n",
    "\t#image = load_img(imagePath, target_size=(224, 224))\n",
    "        # convert the image pixels to a numpy array\n",
    "\t#image = img_to_array(image)\n",
    "        # reshape data for the model\n",
    "\t#image = image.reshape((1, image.shape[0], image.shape[1], image.shape[2]))\n",
    "\timage = cv2.imread(imagePath,1)\n",
    "\timage = cv2.resize(image, (224, 224))\n",
    "\timage= preprocess_input(image)\n",
    "\t# update the data and labels lists, respectively\n",
    "\tdata.append(image)\n",
    "\t\n",
    "\tlabels.append(label)\n",
    "\n",
    "\n",
    "#print(imagePaths)"
   ]
  },
  {
   "cell_type": "code",
   "execution_count": 3,
   "metadata": {},
   "outputs": [
    {
     "name": "stdout",
     "output_type": "stream",
     "text": [
      "loaded data\n",
      "(917, 224, 224, 3)\n"
     ]
    }
   ],
   "source": [
    "data = np.array(data, dtype=\"float\") \n",
    "print('loaded data')\n",
    "print(data.shape)\n",
    "#print(len(data))\n",
    "#print(len(labels))\n",
    "# one-hot encode them\n",
    "le = LabelEncoder()\n",
    "labels = le.fit_transform(labels)\n",
    "labels = np_utils.to_categorical(labels, 2)"
   ]
  },
  {
   "cell_type": "code",
   "execution_count": 4,
   "metadata": {},
   "outputs": [],
   "source": [
    "\n",
    "\n",
    "# convert the data into a NumPy array, then preprocess it by scaling\n",
    "# all pixel intensities to the range [0, 1]\n",
    "#data = np.array(data, dtype=\"float\") / 255.0\n",
    " \n",
    "# encode the labels (which are currently strings) as integers and then\n",
    "\n",
    " \n",
    "# partition the data into training and testing splits using 75% of\n",
    "# the data for training and the remaining 25% for testing\n",
    "(trainX, testX, trainY, testY) = train_test_split(data, labels,\n",
    "\ttest_size=0.20, random_state=10, shuffle=True)\n",
    "\n",
    "\n",
    "\n"
   ]
  },
  {
   "cell_type": "code",
   "execution_count": 5,
   "metadata": {},
   "outputs": [
    {
     "name": "stderr",
     "output_type": "stream",
     "text": [
      "/home/thamizharasi/anaconda3/lib/python3.7/site-packages/keras_applications/resnet50.py:265: UserWarning: The output shape of `ResNet50(include_top=False)` has been changed since Keras 2.2.0.\n",
      "  warnings.warn('The output shape of `ResNet50(include_top=False)` '\n"
     ]
    }
   ],
   "source": [
    "# Resnet initialisation with imagenet\n",
    "\n",
    "img_height,img_width = 224,224\n",
    "num_classes = 2\n",
    "input_shape= (img_height,img_width,3)\n",
    "#base_model=ResNet50(weights='imagenet',include_top=False,input_shape= (img_height,img_width,3)) #imports the mobilenet model and discards the \n",
    "\n",
    "restnet = ResNet50(include_top=False, weights='imagenet', input_shape= (img_height,img_width,3))\n",
    "\n",
    "\n",
    "output = restnet.layers[-1].output\n",
    "output = keras.layers.Flatten()(output)\n",
    "\n",
    "preds=Dense(num_classes,activation='softmax')(output ) #final layer with softmax activatio\n",
    "\n",
    "model = Model(inputs=restnet.input, outputs=preds)\n",
    "\n"
   ]
  },
  {
   "cell_type": "code",
   "execution_count": 6,
   "metadata": {},
   "outputs": [],
   "source": [
    "\n",
    "# Freeze the layers except the last 4 layers\n",
    "for layer in restnet.layers[:-3]:\n",
    "    layer.trainable = False\n",
    "\n",
    "\n",
    "\n"
   ]
  },
  {
   "cell_type": "code",
   "execution_count": 7,
   "metadata": {},
   "outputs": [],
   "source": [
    "#model.summary()\n",
    "\n",
    "\n"
   ]
  },
  {
   "cell_type": "code",
   "execution_count": 8,
   "metadata": {},
   "outputs": [],
   "source": [
    "# ## Created function to computer F1 SCORE\n",
    "\n",
    "\n",
    "\n",
    "def recall_m(y_true, y_pred):\n",
    "        true_positives = K.sum(K.round(K.clip(y_true * y_pred, 0, 1)))\n",
    "        possible_positives = K.sum(K.round(K.clip(y_true, 0, 1)))\n",
    "        recall = true_positives / (possible_positives + K.epsilon())\n",
    "        return recall\n",
    "\n",
    "def precision_m(y_true, y_pred):\n",
    "        true_positives = K.sum(K.round(K.clip(y_true * y_pred, 0, 1)))\n",
    "        predicted_positives = K.sum(K.round(K.clip(y_pred, 0, 1)))\n",
    "        precision = true_positives / (predicted_positives + K.epsilon())\n",
    "        return precision\n",
    "\n",
    "def f1(y_true, y_pred):\n",
    "    precision = precision_m(y_true, y_pred)\n",
    "    recall = recall_m(y_true, y_pred)\n",
    "    return 2*((precision*recall)/(precision+recall+K.epsilon()))\n",
    "\n",
    "\n"
   ]
  },
  {
   "cell_type": "code",
   "execution_count": 9,
   "metadata": {},
   "outputs": [
    {
     "name": "stdout",
     "output_type": "stream",
     "text": [
      "[INFO] compiling model...\n"
     ]
    }
   ],
   "source": [
    "# ## Compiled model using Adam optimizer and computed accuracy and f1 score\n",
    "\n",
    "print(\"[INFO] compiling model...\")\n",
    "#opt = SGD(lr=INIT_LR, momentum=0.9, decay=INIT_LR / EPOCHS)\n",
    "\n",
    "# optimiser intitialisation\n",
    "\n",
    "\n",
    "\n",
    "#decay_rate = INIT_LR \n",
    "#decay_rate = INIT_LR / EPOCHS \n",
    "\n",
    "# learning rate schedule\n",
    "\n",
    "# initial_lrate = 0.1\n",
    "# drop = 0.5\n",
    "# epochs_drop = 10.0\n",
    "\n",
    "# def step_decay(epoch):\n",
    "# \t#lrrate = math.floor(initial_lrate/3.0)    \n",
    "# \tlrate = initial_lrate * math.pow(drop, math.floor((1+epoch)/epochs_drop))\n",
    "# \t#decay_rate.append(lrrate)\n",
    "# \treturn lrate\n",
    " \n",
    "\n",
    "#learning_rate=0.1\n",
    "#decay_rate=learning_rate/ 3\n",
    "\n",
    "#opt = keras.optimizers.Adam(lr=0.1, beta_1=0.9, beta_2=0.999, epsilon=1e-08, decay=decay_rate)\n"
   ]
  },
  {
   "cell_type": "code",
   "execution_count": 10,
   "metadata": {},
   "outputs": [],
   "source": [
    "# data augmentation\n",
    "\n",
    "train_datagen = ImageDataGenerator(\n",
    "       \n",
    "       # preprocessing_function=preprocess_input,\n",
    "        \n",
    "        adaptive_equalization=True, \n",
    "        histogram_equalization=True,\n",
    "        rotation_range=90,\n",
    "        #brightness_range=[0.5,2],\n",
    "        width_shift_range=0.1,\n",
    "        height_shift_range=0.1,\n",
    "        \n",
    "        horizontal_flip=True,\n",
    "        vertical_flip=True,\n",
    "        fill_mode='nearest')\n",
    "\n",
    "\n"
   ]
  },
  {
   "cell_type": "code",
   "execution_count": 11,
   "metadata": {},
   "outputs": [],
   "source": [
    "MIN_LR = 1e-4\n",
    "MAX_LR = 1e-3\n",
    "BATCH_SIZE = 16\n",
    "STEP_SIZE = 8\n",
    "CLR_METHOD = \"triangular\"\n",
    "NUM_EPOCHS = 5\n",
    "CLASSES=['abnormal','normal']\n",
    "\n",
    "\n",
    "# define the path to the output learning rate finder plot, training\n",
    "# history plot and cyclical learning rate plot\n",
    "LRFIND_PLOT_PATH = os.path.sep.join([\"output\", \"lrfind_plot.png\"])\n",
    "TRAINING_PLOT_PATH = os.path.sep.join([\"output\", \"training_loss.png\"])\n",
    "TRAINING_PLOT_ACC_PATH = os.path.sep.join([\"output\", \"training_acc.png\"])\n",
    "CLR_PLOT_PATH = os.path.sep.join([\"output\", \"clr_plot.png\"])\n",
    "\n"
   ]
  },
  {
   "cell_type": "code",
   "execution_count": 12,
   "metadata": {},
   "outputs": [],
   "source": [
    "opt = keras.optimizers.Adam(lr=0.1)\n",
    "model.compile(optimizer=opt,loss='categorical_crossentropy',metrics=['accuracy',f1])\n",
    "\n",
    "\n"
   ]
  },
  {
   "cell_type": "code",
   "execution_count": 13,
   "metadata": {},
   "outputs": [
    {
     "name": "stdout",
     "output_type": "stream",
     "text": [
      "[INFO] finding learning rate...\n",
      "Epoch 1/5\n",
      "46/46 [==============================] - 75s 2s/step - loss: 1.0812 - accuracy: 0.5389 - f1: 0.5383\n",
      "Epoch 2/5\n",
      "46/46 [==============================] - 75s 2s/step - loss: 1.0704 - accuracy: 0.5430 - f1: 0.5430\n",
      "Epoch 3/5\n",
      "46/46 [==============================] - 75s 2s/step - loss: 0.8851 - accuracy: 0.6439 - f1: 0.6444\n",
      "Epoch 4/5\n",
      "46/46 [==============================] - 75s 2s/step - loss: 2.7848 - accuracy: 0.8186 - f1: 0.8190\n",
      "Epoch 5/5\n",
      " 3/46 [>.............................] - ETA: 1:14 - loss: 10.5803 - accuracy: 0.7917 - f1: 0.7917[INFO] learning rate finder complete\n",
      "[INFO] examine plot and adjust learning rates before training\n"
     ]
    },
    {
     "data": {
      "image/png": "[encoded data removed]",
      "text/plain": [
       "<Figure size 432x288 with 1 Axes>"
      ]
     },
     "metadata": {
      "needs_background": "light"
     },
     "output_type": "display_data"
    }
   ],
   "source": [
    "rate=0\n",
    "if rate!=1:\n",
    "\tprint(\"[INFO] finding learning rate...\")\n",
    "\tlrf = LearningRateFinder(model)\n",
    "\tlrf.find(\n",
    "\t\ttrain_datagen.flow(trainX, trainY, batch_size=BATCH_SIZE),\n",
    "\t\t1e-12, 1e+1,epochs=5,\n",
    "\t\tstepsPerEpoch=np.ceil((len(trainX) / float(BATCH_SIZE))),\n",
    "\t\tbatchSize=BATCH_SIZE)\n",
    "\t \n",
    "\t\t# plot the loss for the various learning rates and save the\n",
    "\t\t# resulting plot to disk\n",
    "\tlrf.plot_loss()\n",
    "\tplt.savefig(LRFIND_PLOT_PATH)\n",
    "\tprint(\"[INFO] learning rate finder complete\")\n",
    "\tprint(\"[INFO] examine plot and adjust learning rates before training\")\n",
    "\t#sys.exit(0)\n",
    "\n",
    "\n",
    "\n"
   ]
  },
  {
   "cell_type": "code",
   "execution_count": 14,
   "metadata": {},
   "outputs": [],
   "source": [
    "# hyperparameter tuning\n",
    "import math\n",
    "rates=[]\n",
    "stepSize = STEP_SIZE * (trainX.shape[0] // BATCH_SIZE)\n",
    "clr = CyclicLR(\n",
    "\tmode=CLR_METHOD,\n",
    "\tbase_lr=MIN_LR,\n",
    "\tmax_lr=MAX_LR,\n",
    "\tstep_size=stepSize)\n",
    "\n",
    "opt = keras.optimizers.Adam(lr=0.1)\n",
    "model.compile(optimizer=opt,loss='categorical_crossentropy',metrics=['accuracy',f1])\n",
    "\n",
    "\n",
    "# initial rate is set based on learning rate finder max value\n",
    "initial_lrate=1e-1\n",
    "def time_decay(EPOCHS, initial_lrate):\n",
    "    decay_rate = 0.1\n",
    "    new_lrate = initial_lrate/(1+decay_rate*EPOCHS)\n",
    "    return new_lrate\n",
    "\n",
    "initial_lrate=1e-1\n",
    "def time_decay1(EPOCHS, initial_lrate):\n",
    "    decay_rate = 0.1\n",
    "    epochs_drop=5.0\n",
    "    new_lrate = initial_lrate/(1+decay_rate*math.floor((1+EPOCHS)/epochs_drop) )\n",
    "    rates.append(new_lrate)\n",
    "    return new_lrate\n",
    "\n",
    "def step_decay(EPOCHS):\n",
    "    initial_lrate=1e-1\n",
    "    drop=0.5\n",
    "    epochs_drop=3.0\n",
    "    new_lrate=initial_lrate*math.pow(drop,math.floor((1+EPOCHS)/epochs_drop))\n",
    "    return new_lrate\n",
    "\n",
    "from keras.callbacks import LearningRateScheduler\n",
    "lrate = LearningRateScheduler(time_decay,verbose=1)\n",
    "\n",
    "lrate1 = LearningRateScheduler(step_decay,verbose=1)\n",
    "\n",
    "lrate2 = LearningRateScheduler(time_decay1,verbose=1)\n",
    "\n",
    "\n",
    "filepath=\" Adam 0.1 binary weights-improvement-{epoch:02d}-{val_accuracy:.2f}.hdf5\"\n",
    "checkpoint = ModelCheckpoint(filepath, monitor='val_accuracy', verbose=1, save_best_only=True, mode='max')\n",
    "\n",
    "#early = keras.callbacks.EarlyStopping(monitor='val_loss', min_delta=1e-4, patience=10)\n",
    "reduce1 = keras.callbacks.ReduceLROnPlateau(monitor='val_accuracy', verbose=1,factor= 0.33, patience=1,min_lr=1e-4)\n",
    "\n",
    "\n",
    "#lrate = LearningRateScheduler(step_decay, verbose=1)\n",
    "\n",
    "\n",
    "#callbacks_list = [checkpoint,early,reduce1]\n",
    "\n",
    "#callbacks_list = [checkpoint,reduce1,lrate]\n",
    "\n",
    "#callbacks_list = [checkpoint,reduce1]\n",
    "\n",
    "\n",
    "callbacks_list = [checkpoint,lrate2]\n",
    "\n",
    "\n",
    "\n",
    "\n",
    "\n",
    "#validation_generator = val_datagen.flow(testX, testY)\n",
    "\n",
    "\n",
    "\n"
   ]
  },
  {
   "cell_type": "code",
   "execution_count": 15,
   "metadata": {
    "scrolled": false
   },
   "outputs": [
    {
     "name": "stdout",
     "output_type": "stream",
     "text": [
      "[INFO] training network...\n",
      "Epoch 1/15\n",
      "\n",
      "Epoch 00001: LearningRateScheduler setting learning rate to 0.10000000149011612.\n",
      " - 97s - loss: 231.7555 - accuracy: 0.7908 - f1: 0.7904 - val_loss: 199.3655 - val_accuracy: 0.9022 - val_f1: 0.8958\n",
      "\n",
      "Epoch 00001: val_accuracy improved from -inf to 0.90217, saving model to  Adam 0.1 binary weights-improvement-01-0.90.hdf5\n",
      "Epoch 2/15\n",
      "\n",
      "Epoch 00002: LearningRateScheduler setting learning rate to 0.10000000149011612.\n",
      " - 93s - loss: 168.1084 - accuracy: 0.8285 - f1: 0.8285 - val_loss: 332.7845 - val_accuracy: 0.8913 - val_f1: 0.8854\n",
      "\n",
      "Epoch 00002: val_accuracy did not improve from 0.90217\n",
      "Epoch 3/15\n",
      "\n",
      "Epoch 00003: LearningRateScheduler setting learning rate to 0.10000000149011612.\n",
      " - 93s - loss: 164.0178 - accuracy: 0.8368 - f1: 0.8365 - val_loss: 266.4722 - val_accuracy: 0.8804 - val_f1: 0.8802\n",
      "\n",
      "Epoch 00003: val_accuracy did not improve from 0.90217\n",
      "Epoch 4/15\n",
      "\n",
      "Epoch 00004: LearningRateScheduler setting learning rate to 0.10000000149011612.\n",
      " - 93s - loss: 115.5336 - accuracy: 0.8773 - f1: 0.8775 - val_loss: 340.2126 - val_accuracy: 0.8804 - val_f1: 0.8750\n",
      "\n",
      "Epoch 00004: val_accuracy did not improve from 0.90217\n",
      "Epoch 5/15\n",
      "\n",
      "Epoch 00005: LearningRateScheduler setting learning rate to 0.09090909226374191.\n",
      " - 93s - loss: 117.9094 - accuracy: 0.8708 - f1: 0.8708 - val_loss: 345.9524 - val_accuracy: 0.8641 - val_f1: 0.8594\n",
      "\n",
      "Epoch 00005: val_accuracy did not improve from 0.90217\n",
      "Epoch 6/15\n",
      "\n",
      "Epoch 00006: LearningRateScheduler setting learning rate to 0.0826446305621754.\n",
      " - 93s - loss: 111.0101 - accuracy: 0.8768 - f1: 0.8768 - val_loss: 358.6958 - val_accuracy: 0.8587 - val_f1: 0.8542\n",
      "\n",
      "Epoch 00006: val_accuracy did not improve from 0.90217\n",
      "Epoch 7/15\n",
      "\n",
      "Epoch 00007: LearningRateScheduler setting learning rate to 0.07513148540800267.\n",
      " - 93s - loss: 77.6601 - accuracy: 0.8982 - f1: 0.8980 - val_loss: 400.9067 - val_accuracy: 0.8315 - val_f1: 0.8229\n",
      "\n",
      "Epoch 00007: val_accuracy did not improve from 0.90217\n",
      "Epoch 8/15\n",
      "\n",
      "Epoch 00008: LearningRateScheduler setting learning rate to 0.06830134852366014.\n",
      " - 93s - loss: 96.6568 - accuracy: 0.8870 - f1: 0.8869 - val_loss: 410.7314 - val_accuracy: 0.8370 - val_f1: 0.8333\n",
      "\n",
      "Epoch 00008: val_accuracy did not improve from 0.90217\n",
      "Epoch 9/15\n",
      "\n",
      "Epoch 00009: LearningRateScheduler setting learning rate to 0.06209213625301014.\n",
      " - 93s - loss: 71.1949 - accuracy: 0.9000 - f1: 0.9000 - val_loss: 223.5205 - val_accuracy: 0.8641 - val_f1: 0.8646\n",
      "\n",
      "Epoch 00009: val_accuracy did not improve from 0.90217\n",
      "Epoch 10/15\n",
      "\n",
      "Epoch 00010: LearningRateScheduler setting learning rate to 0.05174344715972742.\n",
      " - 93s - loss: 81.2391 - accuracy: 0.8912 - f1: 0.8913 - val_loss: 229.9677 - val_accuracy: 0.8804 - val_f1: 0.8750\n",
      "\n",
      "Epoch 00010: val_accuracy did not improve from 0.90217\n",
      "Epoch 11/15\n",
      "\n",
      "Epoch 00011: LearningRateScheduler setting learning rate to 0.04311953981717428.\n",
      " - 93s - loss: 51.2720 - accuracy: 0.9188 - f1: 0.9188 - val_loss: 183.4696 - val_accuracy: 0.8967 - val_f1: 0.8958\n",
      "\n",
      "Epoch 00011: val_accuracy did not improve from 0.90217\n",
      "Epoch 12/15\n",
      "\n",
      "Epoch 00012: LearningRateScheduler setting learning rate to 0.03593294881284237.\n",
      " - 93s - loss: 36.8243 - accuracy: 0.9347 - f1: 0.9347 - val_loss: 146.9371 - val_accuracy: 0.8859 - val_f1: 0.8906\n",
      "\n",
      "Epoch 00012: val_accuracy did not improve from 0.90217\n",
      "Epoch 13/15\n",
      "\n",
      "Epoch 00013: LearningRateScheduler setting learning rate to 0.029944125562906265.\n",
      " - 93s - loss: 45.1466 - accuracy: 0.9188 - f1: 0.9191 - val_loss: 179.1582 - val_accuracy: 0.8859 - val_f1: 0.8854\n",
      "\n",
      "Epoch 00013: val_accuracy did not improve from 0.90217\n",
      "Epoch 14/15\n",
      "\n",
      "Epoch 00014: LearningRateScheduler setting learning rate to 0.024953437969088554.\n",
      " - 93s - loss: 47.1033 - accuracy: 0.9219 - f1: 0.9216 - val_loss: 131.6066 - val_accuracy: 0.9185 - val_f1: 0.9167\n",
      "\n",
      "Epoch 00014: val_accuracy improved from 0.90217 to 0.91848, saving model to  Adam 0.1 binary weights-improvement-14-0.92.hdf5\n",
      "Epoch 15/15\n",
      "\n",
      "Epoch 00015: LearningRateScheduler setting learning rate to 0.019194952283914272.\n",
      " - 93s - loss: 50.1707 - accuracy: 0.9250 - f1: 0.9250 - val_loss: 122.9729 - val_accuracy: 0.9185 - val_f1: 0.9219\n",
      "\n",
      "Epoch 00015: val_accuracy did not improve from 0.91848\n"
     ]
    }
   ],
   "source": [
    "EPOCHS = 15\n",
    "print(\"[INFO] training network...\")\n",
    "H = model.fit_generator(\n",
    "\ttrain_datagen.flow(trainX, trainY, batch_size=BATCH_SIZE),\n",
    "\tvalidation_data=(testX, testY),\n",
    "\tsteps_per_epoch=trainX.shape[0] // BATCH_SIZE,\n",
    "\tepochs=EPOCHS,\n",
    "\tcallbacks=callbacks_list,\n",
    "\tverbose=2)\n",
    "\n",
    "\n",
    "\n",
    "#INIT_LR = 1e-1\n",
    "#BS = 64\n",
    "\n",
    "\n"
   ]
  },
  {
   "cell_type": "code",
   "execution_count": null,
   "metadata": {},
   "outputs": [],
   "source": []
  },
  {
   "cell_type": "code",
   "execution_count": 16,
   "metadata": {},
   "outputs": [
    {
     "name": "stdout",
     "output_type": "stream",
     "text": [
      "[INFO] evaluating network...\n",
      "              precision    recall  f1-score   support\n",
      "\n",
      "    abnormal       0.91      0.99      0.95       138\n",
      "      normal       0.94      0.72      0.81        46\n",
      "\n",
      "    accuracy                           0.92       184\n",
      "   macro avg       0.93      0.85      0.88       184\n",
      "weighted avg       0.92      0.92      0.91       184\n",
      "\n"
     ]
    }
   ],
   "source": [
    "# evaluate the network and show a classification report\n",
    "print(\"[INFO] evaluating network...\")\n",
    "predictions = model.predict(testX, batch_size=BATCH_SIZE)\n",
    "print(classification_report(testY.argmax(axis=1),\n",
    "\tpredictions.argmax(axis=1), target_names=CLASSES))\n",
    "\n",
    "\n",
    "\n",
    "\n"
   ]
  },
  {
   "cell_type": "code",
   "execution_count": 17,
   "metadata": {},
   "outputs": [
    {
     "data": {
      "image/png": "[encoded data removed]",
      "text/plain": [
       "<Figure size 432x288 with 1 Axes>"
      ]
     },
     "metadata": {},
     "output_type": "display_data"
    }
   ],
   "source": [
    "\n",
    "# construct a plot that plots and saves the training history\n",
    "N = np.arange(0, EPOCHS)\n",
    "plt.style.use(\"ggplot\")\n",
    "plt.figure()\n",
    "plt.plot(N, H.history[\"loss\"], label=\"train_loss\")\n",
    "plt.plot(N, H.history[\"val_loss\"], label=\"val_loss\")\n",
    "#plt.plot(N, H.history[\"accuracy\"], label=\"train_acc\")\n",
    "#plt.plot(N, H.history[\"val_accuracy\"], label=\"val_acc\")\n",
    "plt.title(\"Training Loss \")\n",
    "plt.xlabel(\"Epoch #\")\n",
    "plt.ylabel(\"Loss\")\n",
    "plt.legend(loc=\"lower left\")\n",
    "plt.savefig(TRAINING_PLOT_PATH)"
   ]
  },
  {
   "cell_type": "code",
   "execution_count": 18,
   "metadata": {},
   "outputs": [
    {
     "data": {
      "image/png": "[encoded data removed]",
      "text/plain": [
       "<Figure size 432x288 with 1 Axes>"
      ]
     },
     "metadata": {},
     "output_type": "display_data"
    }
   ],
   "source": [
    "\n",
    "# construct a plot that plots and saves the training history\n",
    "N = np.arange(0, EPOCHS)\n",
    "plt.style.use(\"ggplot\")\n",
    "plt.figure()\n",
    "#plt.plot(N, H.history[\"loss\"], label=\"train_loss\")\n",
    "#plt.plot(N, H.history[\"val_loss\"], label=\"val_loss\")\n",
    "plt.plot(N, H.history[\"accuracy\"], label=\"train_acc\")\n",
    "plt.plot(N, H.history[\"val_accuracy\"], label=\"val_acc\")\n",
    "plt.title(\"Training Accuracy\")\n",
    "plt.xlabel(\"Epoch #\")\n",
    "plt.ylabel(\"Accuracy\")\n",
    "plt.legend(loc=\"lower left\")\n",
    "plt.savefig(TRAINING_PLOT_ACC_PATH)\n",
    "\n",
    "\n"
   ]
  },
  {
   "cell_type": "code",
   "execution_count": 19,
   "metadata": {},
   "outputs": [
    {
     "data": {
      "text/plain": [
       "<matplotlib.legend.Legend at 0x7fd2fbbd6d90>"
      ]
     },
     "execution_count": 19,
     "metadata": {},
     "output_type": "execute_result"
    },
    {
     "data": {
      "image/png": "[encoded data removed]",
      "text/plain": [
       "<Figure size 432x288 with 1 Axes>"
      ]
     },
     "metadata": {},
     "output_type": "display_data"
    }
   ],
   "source": [
    "N = np.arange(0, EPOCHS)\n",
    "plt.style.use(\"ggplot\")\n",
    "plt.figure()\n",
    "#plt.plot(N, H.history[\"loss\"], label=\"train_loss\")\n",
    "#plt.plot(N, H.history[\"val_loss\"], label=\"val_loss\")\n",
    "plt.plot(N, rates, label=\"learning rates\")\n",
    "#plt.plot(N, H.history[\"val_accuracy\"], label=\"val_acc\")\n",
    "plt.title(\"Learning rate scheduler\")\n",
    "plt.xlabel(\"Epoch #\")\n",
    "plt.ylabel(\"Learning rate\")\n",
    "plt.legend(loc=\"lower left\")"
   ]
  },
  {
   "cell_type": "code",
   "execution_count": null,
   "metadata": {},
   "outputs": [],
   "source": [
    "# # plot the learning rate history\n",
    "# N = np.arange(0, len(clr.history[\"lr\"]))\n",
    "# plt.figure()\n",
    "# plt.plot(N, clr.history[\"lr\"])\n",
    "# plt.title(\"Cyclical Learning Rate (CLR)\")\n",
    "# plt.xlabel(\"Training Iterations\")\n",
    "# plt.ylabel(\"Learning Rate\")\n",
    "# plt.savefig(CLR_PLOT_PATH)"
   ]
  },
  {
   "cell_type": "code",
   "execution_count": null,
   "metadata": {},
   "outputs": [],
   "source": []
  }
 ],
 "metadata": {
  "kernelspec": {
   "display_name": "Python 3",
   "language": "python",
   "name": "python3"
  },
  "language_info": {
   "codemirror_mode": {
    "name": "ipython",
    "version": 3
   },
   "file_extension": ".py",
   "mimetype": "text/x-python",
   "name": "python",
   "nbconvert_exporter": "python",
   "pygments_lexer": "ipython3",
   "version": "3.7.4"
  }
 },
 "nbformat": 4,
 "nbformat_minor": 2
}
